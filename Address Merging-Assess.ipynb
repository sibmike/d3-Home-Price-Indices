{
 "cells": [
  {
   "cell_type": "code",
   "execution_count": 2,
   "metadata": {},
   "outputs": [],
   "source": [
    "import pandas as pd\n",
    "import numpy as np\n",
    "import glob\n",
    "import re \n",
    "from tqdm import tqdm"
   ]
  },
  {
   "cell_type": "code",
   "execution_count": 3,
   "metadata": {},
   "outputs": [],
   "source": [
    "from scourgify import normalize_address_record\n",
    "import usaddress"
   ]
  },
  {
   "cell_type": "code",
   "execution_count": 4,
   "metadata": {},
   "outputs": [],
   "source": [
    "from fuzzywuzzy import process\n",
    "from fuzzywuzzy import fuzz"
   ]
  },
  {
   "cell_type": "code",
   "execution_count": 4,
   "metadata": {},
   "outputs": [],
   "source": [
    "#['address_number','street_name','street_type','unit_number'']\n",
    "#['address_number','street_name','street_type','unit_number']\n",
    "\n",
    "def tag_street(address):\n",
    "    try:\n",
    "        out = usaddress.tag(address, tag_mapping={\n",
    "       'Recipient': 'unit_number',\n",
    "       'AddressNumber': 'address_number',\n",
    "       'AddressNumberPrefix': 'address_number',\n",
    "       'AddressNumberSuffix': 'address_number',\n",
    "       'StreetName': 'street_name',\n",
    "       'StreetNamePreDirectional': 'street_name',\n",
    "       'StreetNamePreModifier': 'street_name',\n",
    "       'StreetNamePreType': 'street_name',\n",
    "       'StreetNamePostDirectional': 'street_name',\n",
    "       'StreetNamePostModifier': 'street_name',\n",
    "       'SecondStreetName': 'street_name',\n",
    "       'StreetNamePostType': 'street_type',\n",
    "       'SecondStreetNamePostType': 'street_type',\n",
    "       'CornerOf': 'street_name',\n",
    "       'IntersectionSeparator': 'street_name',\n",
    "       'LandmarkName': 'street_name',\n",
    "       'USPSBoxGroupID': 'street_name',\n",
    "       'USPSBoxGroupType': 'street_name',\n",
    "       'USPSBoxID': 'street_name',\n",
    "       'USPSBoxType': 'street_name',\n",
    "       'BuildingName': 'unit_number',\n",
    "       'OccupancyType': 'unit_number',\n",
    "       'OccupancyIdentifier': 'unit_number',\n",
    "       'SubaddressIdentifier': 'unit_number',\n",
    "       'SubaddressType': 'unit_number',\n",
    "       'PlaceName': 'city',\n",
    "       'StateName': 'state',\n",
    "       'ZipCode': 'postal_code'\n",
    "        })\n",
    "        return dict(out[0])\n",
    "    except Exception as e_tag:\n",
    "        return {'e_tag': e_tag}"
   ]
  },
  {
   "cell_type": "code",
   "execution_count": 5,
   "metadata": {},
   "outputs": [],
   "source": [
    "def catch_norm_tag(full_address, func=normalize_address_record):\n",
    "    try:\n",
    "        out = func(full_address)\n",
    "        out.update(tag_street(out['address_line_1']))\n",
    "        return out\n",
    "    \n",
    "    except Exception as e_norm:\n",
    "        out = tag_street(full_address)\n",
    "        e_dict = {'e_norm': e_norm}\n",
    "        out.update(e_dict)\n",
    "        return out"
   ]
  },
  {
   "cell_type": "code",
   "execution_count": 6,
   "metadata": {},
   "outputs": [],
   "source": [
    "# Deal with D+\\sd+, d+\\sD+, D+\\s&\\sD+ unit numbers\n",
    "# Deal with \"Buena Vista Avenue\" which get confused:\n",
    "    \n",
    "def unit_extract(addy_series):\n",
    "    \n",
    "    df = pd.DataFrame(index=addy_series.index)\n",
    "\n",
    "    # Split the last element of 'address' on the right - \"suffix\"\n",
    "    df[['street_name','suffix']] = addy_series.str.strip().str.upper().str.rsplit(n=1, expand=True)\n",
    "\n",
    "    ## Drop leading spaces & special characters in 'suffix'\n",
    "    df['street_name'] = df['street_name'].str.strip()\n",
    "    df['suffix'] = df['suffix'].str.strip()\n",
    "\n",
    "    ## Find 'unit' numbers, such as: 1, 123, 12345D, 15CD, A, A1, A123:\n",
    "    pat = '(\\d+\\D*|^[\\D]\\d+$|^[ABCD]$|^AB$|^CD$|^EF$|^FE$)'\n",
    "    df['unit'] = df['suffix'].str.extract(pat)\n",
    "\n",
    "    ## Streets such as 23rd, 1st, 102nd also match 'pat', remove them:\n",
    "    df['unit']=df['unit'].str.replace('(\\d*[RSTN][DTHD])','')\n",
    "\n",
    "    ## Whatever is NOT unit should be added back to addess:\n",
    "    m = df['unit'].isna()\n",
    "    df.loc[m,'street_name'] = df.loc[m,'street_name'] + ' ' + df.loc[m,'suffix']\n",
    "    df.loc[~m,'street_name'] = df.loc[~m,'street_name'] + ', UNIT ' + df.loc[~m,'suffix']\n",
    "\n",
    "    #df.drop('suffix', axis=1, inplace=True)\n",
    "    \n",
    "    return df['street_name']"
   ]
  },
  {
   "cell_type": "code",
   "execution_count": 7,
   "metadata": {},
   "outputs": [],
   "source": [
    "# Use fuzzywuzzy to match zip codes:\n",
    "\n",
    "def fuzzy_correct(check_value, correct_set, thresh=80, fscorer=fuzz.WRatio, imp='#####'):\n",
    "    \n",
    "    # From great tuttorial here: https://michelleful.github.io/\n",
    "    \n",
    "    if check_value in correct_set:  # might want to make this a dict for O(1) lookups\n",
    "        return check_value, 100\n",
    "\n",
    "    new_value, score = process.extractOne(check_value, correct_set, scorer=fscorer)\n",
    "    if score < thresh:\n",
    "        return imp, score\n",
    "    else:\n",
    "        return new_value, score\n",
    "    \n",
    "def fuzzy_series(check_series, correct_areas, thresh=90, fscorer=fuzz.WRatio):\n",
    "    \n",
    "    # Series holders for return:\n",
    "    check_new_areas = check_series.copy()\n",
    "    check_count_areas = check_new_areas.copy()\n",
    "    \n",
    "    # List of unique values to check:\n",
    "    check_areas = list(check_new_areas.unique())    \n",
    "\n",
    "    # Dictionaries for mapping:\n",
    "    count_dict = {}\n",
    "    area_dict = {}\n",
    "\n",
    "    # Build dictionaries for mapping with FuzzyWuzzy:\n",
    "    for area in tqdm(check_areas):\n",
    "        correct_area , count = fuzzy_correct(area, correct_areas, thresh, fscorer)\n",
    "        count_dict[area] = count\n",
    "        area_dict[area] = correct_area\n",
    "    \n",
    "    # Map dictionaries\n",
    "    check_new_areas = check_new_areas.map(area_dict, na_action='ignore')\n",
    "    check_count_areas = check_count_areas.map(count_dict, na_action='ignore')\n",
    "\n",
    "    return check_new_areas, check_count_areas"
   ]
  },
  {
   "cell_type": "markdown",
   "metadata": {},
   "source": [
    "# 1. Canonical addresses"
   ]
  },
  {
   "cell_type": "code",
   "execution_count": 8,
   "metadata": {},
   "outputs": [
    {
     "name": "stdout",
     "output_type": "stream",
     "text": [
      "<class 'pandas.core.frame.DataFrame'>\n",
      "Int64Index: 211956 entries, 0 to 212553\n",
      "Data columns (total 8 columns):\n",
      " #   Column                 Non-Null Count   Dtype  \n",
      "---  ------                 --------------   -----  \n",
      " 0   address                211956 non-null  object \n",
      " 1   address_number         211956 non-null  object \n",
      " 2   address_number_suffix  3700 non-null    object \n",
      " 3   street_name            211956 non-null  object \n",
      " 4   street_type            209573 non-null  object \n",
      " 5   zip                    211956 non-null  object \n",
      " 6   long                   211956 non-null  float64\n",
      " 7   lat                    211956 non-null  float64\n",
      "dtypes: float64(2), object(6)\n",
      "memory usage: 14.6+ MB\n"
     ]
    }
   ],
   "source": [
    "# Column sthat we need for deduping:\n",
    "addy_columns = ['Address', 'Address Number', 'Address Number Suffix', 'Street Name', 'Street Type', \n",
    "           'Zipcode', 'Longitude', 'Latitude']\n",
    "column_names = ['address', 'address_number', 'address_number_suffix', 'street_name', 'street_type', \n",
    "           'zip', 'long', 'lat']\n",
    "\n",
    "# Import Assessor's data:\n",
    "addy_path = r'C:\\SFSU\\Spring 2020\\Project\\Data\\sf-addresses-enterprise-addressing-system\\addresses-enterprise-addressing-system.csv' # use your path\n",
    "addy_frame = pd.read_csv(addy_path, header=0, index_col=False, \n",
    "                        dtype={'Zipcode':str, 'Address Number':str},\n",
    "                        usecols= addy_columns).drop_duplicates()\n",
    "addy_frame.columns = column_names\n",
    "addy_frame.info()"
   ]
  },
  {
   "cell_type": "code",
   "execution_count": 9,
   "metadata": {},
   "outputs": [],
   "source": [
    "addy_frame['street_name'] = addy_frame.street_name.str.lstrip('0')"
   ]
  },
  {
   "cell_type": "code",
   "execution_count": 10,
   "metadata": {},
   "outputs": [
    {
     "data": {
      "text/html": [
       "<div>\n",
       "<style scoped>\n",
       "    .dataframe tbody tr th:only-of-type {\n",
       "        vertical-align: middle;\n",
       "    }\n",
       "\n",
       "    .dataframe tbody tr th {\n",
       "        vertical-align: top;\n",
       "    }\n",
       "\n",
       "    .dataframe thead th {\n",
       "        text-align: right;\n",
       "    }\n",
       "</style>\n",
       "<table border=\"1\" class=\"dataframe\">\n",
       "  <thead>\n",
       "    <tr style=\"text-align: right;\">\n",
       "      <th></th>\n",
       "      <th>address</th>\n",
       "      <th>address_number</th>\n",
       "      <th>address_number_suffix</th>\n",
       "      <th>street_name</th>\n",
       "      <th>street_type</th>\n",
       "      <th>zip</th>\n",
       "      <th>long</th>\n",
       "      <th>lat</th>\n",
       "    </tr>\n",
       "  </thead>\n",
       "  <tbody>\n",
       "    <tr>\n",
       "      <th>1</th>\n",
       "      <td>2433A 23RD AVE</td>\n",
       "      <td>2433</td>\n",
       "      <td>A</td>\n",
       "      <td>23RD</td>\n",
       "      <td>AVE</td>\n",
       "      <td>94116</td>\n",
       "      <td>-122.480264</td>\n",
       "      <td>37.742226</td>\n",
       "    </tr>\n",
       "    <tr>\n",
       "      <th>2</th>\n",
       "      <td>312A UNION ST</td>\n",
       "      <td>312</td>\n",
       "      <td>A</td>\n",
       "      <td>UNION</td>\n",
       "      <td>ST</td>\n",
       "      <td>94133</td>\n",
       "      <td>-122.404777</td>\n",
       "      <td>37.801114</td>\n",
       "    </tr>\n",
       "    <tr>\n",
       "      <th>37</th>\n",
       "      <td>369A DUNCAN ST</td>\n",
       "      <td>369</td>\n",
       "      <td>A</td>\n",
       "      <td>DUNCAN</td>\n",
       "      <td>ST</td>\n",
       "      <td>94131</td>\n",
       "      <td>-122.428290</td>\n",
       "      <td>37.745765</td>\n",
       "    </tr>\n",
       "    <tr>\n",
       "      <th>69</th>\n",
       "      <td>1726A CABRILLO ST</td>\n",
       "      <td>1726</td>\n",
       "      <td>A</td>\n",
       "      <td>CABRILLO</td>\n",
       "      <td>ST</td>\n",
       "      <td>94121</td>\n",
       "      <td>-122.477383</td>\n",
       "      <td>37.775000</td>\n",
       "    </tr>\n",
       "    <tr>\n",
       "      <th>74</th>\n",
       "      <td>3233A 16TH ST</td>\n",
       "      <td>3233</td>\n",
       "      <td>A</td>\n",
       "      <td>16TH</td>\n",
       "      <td>ST</td>\n",
       "      <td>94110</td>\n",
       "      <td>-122.424803</td>\n",
       "      <td>37.764482</td>\n",
       "    </tr>\n",
       "  </tbody>\n",
       "</table>\n",
       "</div>"
      ],
      "text/plain": [
       "              address address_number address_number_suffix street_name  \\\n",
       "1      2433A 23RD AVE           2433                     A        23RD   \n",
       "2       312A UNION ST            312                     A       UNION   \n",
       "37     369A DUNCAN ST            369                     A      DUNCAN   \n",
       "69  1726A CABRILLO ST           1726                     A    CABRILLO   \n",
       "74      3233A 16TH ST           3233                     A        16TH   \n",
       "\n",
       "   street_type    zip        long        lat  \n",
       "1          AVE  94116 -122.480264  37.742226  \n",
       "2           ST  94133 -122.404777  37.801114  \n",
       "37          ST  94131 -122.428290  37.745765  \n",
       "69          ST  94121 -122.477383  37.775000  \n",
       "74          ST  94110 -122.424803  37.764482  "
      ]
     },
     "execution_count": 10,
     "metadata": {},
     "output_type": "execute_result"
    }
   ],
   "source": [
    "m = ~addy_frame.address_number_suffix.isna()\n",
    "addy_frame[m].head()"
   ]
  },
  {
   "cell_type": "markdown",
   "metadata": {},
   "source": [
    "# 2. Assessor Data"
   ]
  },
  {
   "cell_type": "code",
   "execution_count": 11,
   "metadata": {},
   "outputs": [
    {
     "name": "stdout",
     "output_type": "stream",
     "text": [
      "<class 'pandas.core.frame.DataFrame'>\n",
      "Int64Index: 200297 entries, 0 to 1611451\n",
      "Data columns (total 2 columns):\n",
      " #   Column   Non-Null Count   Dtype \n",
      "---  ------   --------------   ----- \n",
      " 0   address  200297 non-null  object\n",
      " 1   zip      200297 non-null  object\n",
      "dtypes: object(2)\n",
      "memory usage: 4.6+ MB\n"
     ]
    }
   ],
   "source": [
    "# Column sthat we need for deduping:\n",
    "assess_cols = ['Property Location', 'Zipcode of Parcel']\n",
    "\n",
    "# Import Assessor's data:\n",
    "assess_path = r'C:\\SFSU\\Spring 2020\\Project\\Data\\assessor\\Historic_Secured_Property_Tax_Rolls.csv' # use your path\n",
    "assess_frame = pd.read_csv(assess_path, header=0, index_col=False, usecols=assess_cols, \n",
    "                          dtype={'Zipcode of Parcel':str}).drop_duplicates()\n",
    "assess_frame.columns = ['address', 'zip']\n",
    "assess_frame.fillna('99999', inplace=True)\n",
    "assess_frame.info()"
   ]
  },
  {
   "cell_type": "markdown",
   "metadata": {},
   "source": [
    "### 2.1. Assess frame preparation"
   ]
  },
  {
   "cell_type": "code",
   "execution_count": 12,
   "metadata": {},
   "outputs": [
    {
     "data": {
      "text/html": [
       "<div>\n",
       "<style scoped>\n",
       "    .dataframe tbody tr th:only-of-type {\n",
       "        vertical-align: middle;\n",
       "    }\n",
       "\n",
       "    .dataframe tbody tr th {\n",
       "        vertical-align: top;\n",
       "    }\n",
       "\n",
       "    .dataframe thead th {\n",
       "        text-align: right;\n",
       "    }\n",
       "</style>\n",
       "<table border=\"1\" class=\"dataframe\">\n",
       "  <thead>\n",
       "    <tr style=\"text-align: right;\">\n",
       "      <th></th>\n",
       "      <th>address</th>\n",
       "      <th>zip</th>\n",
       "      <th>no1</th>\n",
       "      <th>address_number</th>\n",
       "      <th>street_name</th>\n",
       "      <th>street_type</th>\n",
       "      <th>unit_number</th>\n",
       "    </tr>\n",
       "  </thead>\n",
       "  <tbody>\n",
       "    <tr>\n",
       "      <th>0</th>\n",
       "      <td>0000 2530 BROADWAY              0000</td>\n",
       "      <td>94123</td>\n",
       "      <td></td>\n",
       "      <td>2530</td>\n",
       "      <td>BROADWAY</td>\n",
       "      <td></td>\n",
       "      <td></td>\n",
       "    </tr>\n",
       "    <tr>\n",
       "      <th>1</th>\n",
       "      <td>1114 1108 CHURCH              ST0000</td>\n",
       "      <td>94114</td>\n",
       "      <td>1114</td>\n",
       "      <td>1108</td>\n",
       "      <td>CHURCH</td>\n",
       "      <td>ST</td>\n",
       "      <td></td>\n",
       "    </tr>\n",
       "    <tr>\n",
       "      <th>3</th>\n",
       "      <td>0000 2625 24TH                ST0000</td>\n",
       "      <td>99999</td>\n",
       "      <td></td>\n",
       "      <td>2625</td>\n",
       "      <td>24TH</td>\n",
       "      <td>ST</td>\n",
       "      <td></td>\n",
       "    </tr>\n",
       "    <tr>\n",
       "      <th>5</th>\n",
       "      <td>0000 3636 WEBSTER             ST0000</td>\n",
       "      <td>94123</td>\n",
       "      <td></td>\n",
       "      <td>3636</td>\n",
       "      <td>WEBSTER</td>\n",
       "      <td>ST</td>\n",
       "      <td></td>\n",
       "    </tr>\n",
       "    <tr>\n",
       "      <th>6</th>\n",
       "      <td>0000 1453 07TH                AV0000</td>\n",
       "      <td>94122</td>\n",
       "      <td></td>\n",
       "      <td>1453</td>\n",
       "      <td>7TH</td>\n",
       "      <td>AV</td>\n",
       "      <td></td>\n",
       "    </tr>\n",
       "  </tbody>\n",
       "</table>\n",
       "</div>"
      ],
      "text/plain": [
       "                                address    zip   no1 address_number  \\\n",
       "0  0000 2530 BROADWAY              0000  94123                 2530   \n",
       "1  1114 1108 CHURCH              ST0000  94114  1114           1108   \n",
       "3  0000 2625 24TH                ST0000  99999                 2625   \n",
       "5  0000 3636 WEBSTER             ST0000  94123                 3636   \n",
       "6  0000 1453 07TH                AV0000  94122                 1453   \n",
       "\n",
       "  street_name street_type unit_number  \n",
       "0    BROADWAY                          \n",
       "1      CHURCH          ST              \n",
       "3        24TH          ST              \n",
       "5     WEBSTER          ST              \n",
       "6         7TH          AV              "
      ]
     },
     "execution_count": 12,
     "metadata": {},
     "output_type": "execute_result"
    }
   ],
   "source": [
    "# Split Address convenient columns:\n",
    "assess_frame[['no1','address_number','street_name']] = assess_frame['address'].copy().str.split(n=2, expand=True)\n",
    "assess_frame[['street_name','street_type']] = assess_frame['street_name'].copy().str.rsplit(n=1, expand=True)\n",
    "\n",
    "# Process columns:\n",
    "assess_frame['no1'] = assess_frame['no1'].str.lstrip('0')\n",
    "assess_frame['address_number'] = assess_frame['address_number'].str.lstrip('0')\n",
    "\n",
    "# Strip zeros on left and right:\n",
    "assess_frame['street_name'] = assess_frame['street_name'].str.strip().str.lstrip('0')\n",
    "\n",
    "# Extract 'unit number':\n",
    "pat = '([0]\\D*\\d*\\D*$|\\d+\\D*$)'\n",
    "assess_frame['unit_number'] = assess_frame['street_type'].str.extract(pat)[0].str.lstrip('0')\n",
    "\n",
    "# Extract street type:\n",
    "pat = '(^\\D+)'\n",
    "assess_frame['street_type'] = assess_frame['street_type'].str.extract(pat)[0]\n",
    "\n",
    "# Replace nans with empty strings (None+str=None):\n",
    "assess_frame.fillna('', inplace=True)\n",
    "\n",
    "#Drop rows without Number or street name:\n",
    "m = (assess_frame.address_number == '') | (assess_frame.street_name == '')\n",
    "assess_frame.drop(assess_frame[m].index, inplace=True)\n",
    "\n",
    "assess_frame.head()"
   ]
  },
  {
   "cell_type": "markdown",
   "metadata": {},
   "source": [
    "### 2.2. Full address"
   ]
  },
  {
   "cell_type": "code",
   "execution_count": 13,
   "metadata": {},
   "outputs": [
    {
     "data": {
      "text/html": [
       "<div>\n",
       "<style scoped>\n",
       "    .dataframe tbody tr th:only-of-type {\n",
       "        vertical-align: middle;\n",
       "    }\n",
       "\n",
       "    .dataframe tbody tr th {\n",
       "        vertical-align: top;\n",
       "    }\n",
       "\n",
       "    .dataframe thead th {\n",
       "        text-align: right;\n",
       "    }\n",
       "</style>\n",
       "<table border=\"1\" class=\"dataframe\">\n",
       "  <thead>\n",
       "    <tr style=\"text-align: right;\">\n",
       "      <th></th>\n",
       "      <th>address</th>\n",
       "      <th>zip</th>\n",
       "      <th>no1</th>\n",
       "      <th>address_number</th>\n",
       "      <th>street_name</th>\n",
       "      <th>street_type</th>\n",
       "      <th>unit_number</th>\n",
       "      <th>full_address</th>\n",
       "    </tr>\n",
       "  </thead>\n",
       "  <tbody>\n",
       "    <tr>\n",
       "      <th>0</th>\n",
       "      <td>0000 2530 BROADWAY              0000</td>\n",
       "      <td>94123</td>\n",
       "      <td></td>\n",
       "      <td>2530</td>\n",
       "      <td>BROADWAY</td>\n",
       "      <td></td>\n",
       "      <td></td>\n",
       "      <td>2530 BROADWAY</td>\n",
       "    </tr>\n",
       "    <tr>\n",
       "      <th>1</th>\n",
       "      <td>1114 1108 CHURCH              ST0000</td>\n",
       "      <td>94114</td>\n",
       "      <td>1114</td>\n",
       "      <td>1108</td>\n",
       "      <td>CHURCH</td>\n",
       "      <td>ST</td>\n",
       "      <td></td>\n",
       "      <td>1108 CHURCH ST</td>\n",
       "    </tr>\n",
       "    <tr>\n",
       "      <th>3</th>\n",
       "      <td>0000 2625 24TH                ST0000</td>\n",
       "      <td>99999</td>\n",
       "      <td></td>\n",
       "      <td>2625</td>\n",
       "      <td>24TH</td>\n",
       "      <td>ST</td>\n",
       "      <td></td>\n",
       "      <td>2625 24TH ST</td>\n",
       "    </tr>\n",
       "    <tr>\n",
       "      <th>5</th>\n",
       "      <td>0000 3636 WEBSTER             ST0000</td>\n",
       "      <td>94123</td>\n",
       "      <td></td>\n",
       "      <td>3636</td>\n",
       "      <td>WEBSTER</td>\n",
       "      <td>ST</td>\n",
       "      <td></td>\n",
       "      <td>3636 WEBSTER ST</td>\n",
       "    </tr>\n",
       "    <tr>\n",
       "      <th>6</th>\n",
       "      <td>0000 1453 07TH                AV0000</td>\n",
       "      <td>94122</td>\n",
       "      <td></td>\n",
       "      <td>1453</td>\n",
       "      <td>7TH</td>\n",
       "      <td>AV</td>\n",
       "      <td></td>\n",
       "      <td>1453 7TH AV</td>\n",
       "    </tr>\n",
       "  </tbody>\n",
       "</table>\n",
       "</div>"
      ],
      "text/plain": [
       "                                address    zip   no1 address_number  \\\n",
       "0  0000 2530 BROADWAY              0000  94123                 2530   \n",
       "1  1114 1108 CHURCH              ST0000  94114  1114           1108   \n",
       "3  0000 2625 24TH                ST0000  99999                 2625   \n",
       "5  0000 3636 WEBSTER             ST0000  94123                 3636   \n",
       "6  0000 1453 07TH                AV0000  94122                 1453   \n",
       "\n",
       "  street_name street_type unit_number     full_address  \n",
       "0    BROADWAY                            2530 BROADWAY  \n",
       "1      CHURCH          ST               1108 CHURCH ST  \n",
       "3        24TH          ST                 2625 24TH ST  \n",
       "5     WEBSTER          ST              3636 WEBSTER ST  \n",
       "6         7TH          AV                  1453 7TH AV  "
      ]
     },
     "execution_count": 13,
     "metadata": {},
     "output_type": "execute_result"
    }
   ],
   "source": [
    "## Whatever is NOT unit should be added back to addess:\n",
    "assess_frame['full_address'] = assess_frame.address_number +' '+ assess_frame.street_name + ' '+assess_frame.street_type\n",
    "\n",
    "# Construct full address for parser:\n",
    "m = assess_frame['unit_number']==''\n",
    "assess_frame.loc[~m,'full_address'] = assess_frame.loc[~m,'full_address'] + ' '+assess_frame.loc[~m,'unit_number']\n",
    "assess_frame['full_address']=assess_frame['full_address'].str.strip()\n",
    "\n",
    "assess_frame.head(5)"
   ]
  },
  {
   "cell_type": "markdown",
   "metadata": {},
   "source": [
    "# 3. Pipeline\n",
    "\n",
    "Although, addresses at the head of dataset look clean, there are in fact misformatted addresses. Such as addresses where street_name includes unit_number which will prevent us from mathcing the addresses as units also come in a vaiety of forms such as UNIT123, # 123, APP123, etc\n",
    "\n",
    "### 3.1. Extract Unit numbers:"
   ]
  },
  {
   "cell_type": "code",
   "execution_count": 14,
   "metadata": {},
   "outputs": [],
   "source": [
    "# Extract 'Unit' as parsers confuse them with street numbers:\n",
    "assess_frame['full_address'] = unit_extract(assess_frame['full_address'])\n",
    "\n",
    "# Construct full address for parser:\n",
    "assess_frame['full_address'] = assess_frame['full_address'] + ', SAN-FRANCISCO, CA ' + assess_frame['zip']"
   ]
  },
  {
   "cell_type": "markdown",
   "metadata": {},
   "source": [
    "### 3.2. Normalize full address:"
   ]
  },
  {
   "cell_type": "code",
   "execution_count": 15,
   "metadata": {},
   "outputs": [],
   "source": [
    "# Parse, concatenate, drop duplicate columns:\n",
    "df_out=pd.DataFrame(list(assess_frame.full_address.apply(lambda x: catch_norm_tag(x))), index=assess_frame.index)\n",
    "df_out.index = assess_frame.index"
   ]
  },
  {
   "cell_type": "code",
   "execution_count": 16,
   "metadata": {},
   "outputs": [
    {
     "data": {
      "text/html": [
       "<div>\n",
       "<style scoped>\n",
       "    .dataframe tbody tr th:only-of-type {\n",
       "        vertical-align: middle;\n",
       "    }\n",
       "\n",
       "    .dataframe tbody tr th {\n",
       "        vertical-align: top;\n",
       "    }\n",
       "\n",
       "    .dataframe thead th {\n",
       "        text-align: right;\n",
       "    }\n",
       "</style>\n",
       "<table border=\"1\" class=\"dataframe\">\n",
       "  <thead>\n",
       "    <tr style=\"text-align: right;\">\n",
       "      <th></th>\n",
       "      <th>address</th>\n",
       "      <th>zip</th>\n",
       "      <th>no1</th>\n",
       "      <th>address_number</th>\n",
       "      <th>street_name</th>\n",
       "      <th>street_type</th>\n",
       "      <th>unit_number</th>\n",
       "      <th>full_address</th>\n",
       "      <th>e_tag</th>\n",
       "      <th>e_norm</th>\n",
       "    </tr>\n",
       "  </thead>\n",
       "  <tbody>\n",
       "    <tr>\n",
       "      <th>0</th>\n",
       "      <td>0000 2530 BROADWAY              0000</td>\n",
       "      <td>94123</td>\n",
       "      <td></td>\n",
       "      <td>2530</td>\n",
       "      <td>BROADWAY</td>\n",
       "      <td>NaN</td>\n",
       "      <td>NaN</td>\n",
       "      <td>2530 BROADWAY, SAN-FRANCISCO, CA 94123</td>\n",
       "      <td>NaN</td>\n",
       "      <td>NaN</td>\n",
       "    </tr>\n",
       "    <tr>\n",
       "      <th>1</th>\n",
       "      <td>1114 1108 CHURCH              ST0000</td>\n",
       "      <td>94114</td>\n",
       "      <td>1114</td>\n",
       "      <td>1108</td>\n",
       "      <td>CHURCH</td>\n",
       "      <td>ST</td>\n",
       "      <td>NaN</td>\n",
       "      <td>1108 CHURCH ST, SAN-FRANCISCO, CA 94114</td>\n",
       "      <td>NaN</td>\n",
       "      <td>NaN</td>\n",
       "    </tr>\n",
       "    <tr>\n",
       "      <th>3</th>\n",
       "      <td>0000 2625 24TH                ST0000</td>\n",
       "      <td>99999</td>\n",
       "      <td></td>\n",
       "      <td>2625</td>\n",
       "      <td>24TH</td>\n",
       "      <td>ST</td>\n",
       "      <td>NaN</td>\n",
       "      <td>2625 24TH ST, SAN-FRANCISCO, CA 99999</td>\n",
       "      <td>NaN</td>\n",
       "      <td>NaN</td>\n",
       "    </tr>\n",
       "    <tr>\n",
       "      <th>5</th>\n",
       "      <td>0000 3636 WEBSTER             ST0000</td>\n",
       "      <td>94123</td>\n",
       "      <td></td>\n",
       "      <td>3636</td>\n",
       "      <td>WEBSTER</td>\n",
       "      <td>ST</td>\n",
       "      <td>NaN</td>\n",
       "      <td>3636 WEBSTER ST, SAN-FRANCISCO, CA 94123</td>\n",
       "      <td>NaN</td>\n",
       "      <td>NaN</td>\n",
       "    </tr>\n",
       "    <tr>\n",
       "      <th>6</th>\n",
       "      <td>0000 1453 07TH                AV0000</td>\n",
       "      <td>94122</td>\n",
       "      <td></td>\n",
       "      <td>1453</td>\n",
       "      <td>7TH</td>\n",
       "      <td>AVE</td>\n",
       "      <td>NaN</td>\n",
       "      <td>1453 7TH AV, SAN-FRANCISCO, CA 94122</td>\n",
       "      <td>NaN</td>\n",
       "      <td>NaN</td>\n",
       "    </tr>\n",
       "  </tbody>\n",
       "</table>\n",
       "</div>"
      ],
      "text/plain": [
       "                                address    zip   no1 address_number  \\\n",
       "0  0000 2530 BROADWAY              0000  94123                 2530   \n",
       "1  1114 1108 CHURCH              ST0000  94114  1114           1108   \n",
       "3  0000 2625 24TH                ST0000  99999                 2625   \n",
       "5  0000 3636 WEBSTER             ST0000  94123                 3636   \n",
       "6  0000 1453 07TH                AV0000  94122                 1453   \n",
       "\n",
       "  street_name street_type unit_number  \\\n",
       "0    BROADWAY         NaN         NaN   \n",
       "1      CHURCH          ST         NaN   \n",
       "3        24TH          ST         NaN   \n",
       "5     WEBSTER          ST         NaN   \n",
       "6         7TH         AVE         NaN   \n",
       "\n",
       "                               full_address e_tag e_norm  \n",
       "0    2530 BROADWAY, SAN-FRANCISCO, CA 94123   NaN    NaN  \n",
       "1   1108 CHURCH ST, SAN-FRANCISCO, CA 94114   NaN    NaN  \n",
       "3     2625 24TH ST, SAN-FRANCISCO, CA 99999   NaN    NaN  \n",
       "5  3636 WEBSTER ST, SAN-FRANCISCO, CA 94123   NaN    NaN  \n",
       "6      1453 7TH AV, SAN-FRANCISCO, CA 94122   NaN    NaN  "
      ]
     },
     "execution_count": 16,
     "metadata": {},
     "output_type": "execute_result"
    }
   ],
   "source": [
    "m = df_out.e_norm.isna() | df_out.e_tag.isna()\n",
    "\n",
    "# Keep exceptions:\n",
    "assess_frame[['e_tag', 'e_norm']]= df_out[['e_tag', 'e_norm']]\n",
    "\n",
    "# Replace with normalized columns:\n",
    "for c in ['address_number','street_name','street_type','unit_number']:\n",
    "    assess_frame.loc[m,c] = df_out.loc[m,c]\n",
    "\n",
    "assess_frame.head(5)"
   ]
  },
  {
   "cell_type": "markdown",
   "metadata": {},
   "source": [
    "### 3.3 Match streets with FuzzyWuzzy"
   ]
  },
  {
   "cell_type": "markdown",
   "metadata": {},
   "source": [
    "#### FuzzyWuzzy application"
   ]
  },
  {
   "cell_type": "code",
   "execution_count": 17,
   "metadata": {},
   "outputs": [],
   "source": [
    "# Set of streets:\n",
    "assess_frame['street_name_type'] = (assess_frame.street_name.fillna('') +\\\n",
    "                                    ' '+assess_frame.street_type.fillna('')).str.strip() "
   ]
  },
  {
   "cell_type": "code",
   "execution_count": 18,
   "metadata": {},
   "outputs": [
    {
     "name": "stderr",
     "output_type": "stream",
     "text": [
      "  1%|▍                                                                               | 17/2943 [00:00<03:03, 15.91it/s]WARNING:root:Applied processor reduces input query to empty string, all comparisons will have score 0. [Query: '']\n",
      "100%|██████████████████████████████████████████████████████████████████████████████| 2943/2943 [03:12<00:00, 15.29it/s]\n"
     ]
    }
   ],
   "source": [
    "# Set of streets without suffix:\n",
    "street_name_set = set(addy_frame['street_name'].dropna().unique())\n",
    "                      \n",
    "assess_frame['addy_street_name'], assess_frame['addy_street_name_score'] =\\\n",
    "fuzzy_series(assess_frame['street_name_type'], street_name_set, thresh=10)"
   ]
  },
  {
   "cell_type": "code",
   "execution_count": 19,
   "metadata": {},
   "outputs": [
    {
     "name": "stderr",
     "output_type": "stream",
     "text": [
      "  1%|▍                                                                              | 16/2943 [00:00<00:21, 133.73it/s]WARNING:root:Applied processor reduces input query to empty string, all comparisons will have score 0. [Query: '']\n",
      "100%|██████████████████████████████████████████████████████████████████████████████| 2943/2943 [01:34<00:00, 31.19it/s]\n"
     ]
    }
   ],
   "source": [
    "# Set of streets with suffix:\n",
    "street_name_type_set = set((addy_frame.street_name.fillna('')+' '+addy_frame.street_type.fillna('')).unique())\n",
    "\n",
    "assess_frame['addy_street_name_type'], assess_frame['addy_street_name_type_score'] =\\\n",
    "fuzzy_series(assess_frame['street_name_type'], street_name_type_set, thresh=10)"
   ]
  },
  {
   "cell_type": "code",
   "execution_count": 20,
   "metadata": {},
   "outputs": [
    {
     "data": {
      "text/plain": [
       "0.9580949900321576"
      ]
     },
     "execution_count": 20,
     "metadata": {},
     "output_type": "execute_result"
    }
   ],
   "source": [
    "m = (assess_frame['addy_street_name_score']>=91)|(assess_frame['addy_street_name_type_score']>=91)\n",
    "sum(m)/assess_frame.shape[0]"
   ]
  },
  {
   "cell_type": "code",
   "execution_count": 21,
   "metadata": {},
   "outputs": [
    {
     "data": {
      "text/plain": [
       "0.018332815740174913"
      ]
     },
     "execution_count": 21,
     "metadata": {},
     "output_type": "execute_result"
    }
   ],
   "source": [
    "sum(assess_frame.street_name_type.str.strip() == '')/assess_frame.shape[0]"
   ]
  },
  {
   "cell_type": "markdown",
   "metadata": {},
   "source": [
    "### 3.4 Match street and numbers:\n",
    "#### 3.4.1 Replace canonical street_name_type\n",
    "Depending on FuzzyWuzzy score, replace original street name with canonical street name with or without street type.\n",
    "Note: we cannot autoatically add street_type at this point if it is missing."
   ]
  },
  {
   "cell_type": "code",
   "execution_count": 22,
   "metadata": {},
   "outputs": [],
   "source": [
    "assess_frame['number_street_type'] = assess_frame['street_name_type']"
   ]
  },
  {
   "cell_type": "code",
   "execution_count": 23,
   "metadata": {},
   "outputs": [],
   "source": [
    "m91 = (assess_frame['addy_street_name_score']>=91)|(assess_frame['addy_street_name_type_score']>=91)\n",
    "msfx = assess_frame['addy_street_name_type_score'] >= assess_frame['addy_street_name_score']"
   ]
  },
  {
   "cell_type": "code",
   "execution_count": 24,
   "metadata": {},
   "outputs": [],
   "source": [
    "assess_frame.loc[~m91,'number_street_type'] = '#####'\n",
    "assess_frame.loc[m91 & ~msfx,'number_street_type'] = assess_frame.loc[~msfx,'addy_street_name']\n",
    "assess_frame.loc[m91 & msfx,'number_street_type'] = assess_frame.loc[msfx,'addy_street_name_type']"
   ]
  },
  {
   "cell_type": "code",
   "execution_count": 25,
   "metadata": {},
   "outputs": [],
   "source": [
    "assess_frame['number_street_type'] = assess_frame['address_number']+' '+ assess_frame['number_street_type']#+' '+sales_frame['unit'].fillna('')"
   ]
  },
  {
   "cell_type": "markdown",
   "metadata": {},
   "source": [
    "#### 3.4.2 Find mathcing addresses\n",
    "After street_type is adjusted add street_number and look for mathcing addresses"
   ]
  },
  {
   "cell_type": "code",
   "execution_count": 26,
   "metadata": {},
   "outputs": [],
   "source": [
    "# Addy without suffix:\n",
    "addy_frame['number_street'] = addy_frame.address_number.astype(str)+\\\n",
    "' '+addy_frame.street_name.str.strip() \n",
    "addy_frame['number_street_type'] = addy_frame.address_number.astype(str)+\\\n",
    "' '+addy_frame.street_name.str.strip() +' '+addy_frame.street_type.str.strip() \n",
    "\n",
    "# Set of streets with suffix:\n",
    "addy_number_street_set = set(addy_frame['number_street'].dropna().unique())\n",
    "addy_number_street_type_set = set(addy_frame['number_street_type'].dropna().unique())"
   ]
  },
  {
   "cell_type": "code",
   "execution_count": 27,
   "metadata": {},
   "outputs": [
    {
     "name": "stderr",
     "output_type": "stream",
     "text": [
      "100%|██████████████████████████████████████████████████████████████████████████████| 3118/3118 [01:53<00:00, 27.42it/s]\n"
     ]
    }
   ],
   "source": [
    "# Add type to streets that match without street_type:\n",
    "m = assess_frame['number_street_type'].isin(addy_number_street_set)\n",
    "ser = assess_frame['number_street_type'][m]\n",
    " \n",
    "for idx in tqdm(ser.index):\n",
    "    jdx = addy_frame[addy_frame['number_street'].isin([ser.loc[idx]])].index[0]\n",
    "    assess_frame.loc[idx, 'street_type'] = addy_frame.loc[jdx, 'street_type']\n",
    "    assess_frame.loc[idx, 'number_street_type'] = addy_frame.loc[jdx, 'number_street_type']"
   ]
  },
  {
   "cell_type": "code",
   "execution_count": 28,
   "metadata": {},
   "outputs": [],
   "source": [
    "assess_frame['found'] = assess_frame['number_street_type'].isin(addy_number_street_type_set)"
   ]
  },
  {
   "cell_type": "code",
   "execution_count": 29,
   "metadata": {},
   "outputs": [
    {
     "data": {
      "text/plain": [
       "0.9250859037677442"
      ]
     },
     "execution_count": 29,
     "metadata": {},
     "output_type": "execute_result"
    }
   ],
   "source": [
    "assess_frame['found'].sum()/assess_frame.shape[0]"
   ]
  },
  {
   "cell_type": "markdown",
   "metadata": {},
   "source": [
    "### Merge"
   ]
  },
  {
   "cell_type": "code",
   "execution_count": 30,
   "metadata": {},
   "outputs": [
    {
     "data": {
      "text/plain": [
       "Index(['address', 'address_number', 'address_number_suffix', 'street_name',\n",
       "       'street_type', 'zip', 'long', 'lat', 'number_street',\n",
       "       'number_street_type'],\n",
       "      dtype='object')"
      ]
     },
     "execution_count": 30,
     "metadata": {},
     "output_type": "execute_result"
    }
   ],
   "source": [
    "addy_frame.columns"
   ]
  },
  {
   "cell_type": "code",
   "execution_count": 33,
   "metadata": {},
   "outputs": [
    {
     "data": {
      "text/html": [
       "<div>\n",
       "<style scoped>\n",
       "    .dataframe tbody tr th:only-of-type {\n",
       "        vertical-align: middle;\n",
       "    }\n",
       "\n",
       "    .dataframe tbody tr th {\n",
       "        vertical-align: top;\n",
       "    }\n",
       "\n",
       "    .dataframe thead th {\n",
       "        text-align: right;\n",
       "    }\n",
       "</style>\n",
       "<table border=\"1\" class=\"dataframe\">\n",
       "  <thead>\n",
       "    <tr style=\"text-align: right;\">\n",
       "      <th></th>\n",
       "      <th>address</th>\n",
       "      <th>address_number</th>\n",
       "      <th>address_number_suffix</th>\n",
       "      <th>street_name</th>\n",
       "      <th>street_type</th>\n",
       "      <th>zip</th>\n",
       "      <th>long</th>\n",
       "      <th>lat</th>\n",
       "      <th>number_street</th>\n",
       "      <th>number_street_type</th>\n",
       "    </tr>\n",
       "  </thead>\n",
       "  <tbody>\n",
       "    <tr>\n",
       "      <th>0</th>\n",
       "      <td>1411 16TH AVE</td>\n",
       "      <td>1411</td>\n",
       "      <td>NaN</td>\n",
       "      <td>16TH</td>\n",
       "      <td>AVE</td>\n",
       "      <td>94122</td>\n",
       "      <td>-122.473947</td>\n",
       "      <td>37.761593</td>\n",
       "      <td>1411 16TH</td>\n",
       "      <td>1411 16TH AVE</td>\n",
       "    </tr>\n",
       "    <tr>\n",
       "      <th>1</th>\n",
       "      <td>2433A 23RD AVE</td>\n",
       "      <td>2433</td>\n",
       "      <td>A</td>\n",
       "      <td>23RD</td>\n",
       "      <td>AVE</td>\n",
       "      <td>94116</td>\n",
       "      <td>-122.480264</td>\n",
       "      <td>37.742226</td>\n",
       "      <td>2433 23RD</td>\n",
       "      <td>2433 23RD AVE</td>\n",
       "    </tr>\n",
       "    <tr>\n",
       "      <th>2</th>\n",
       "      <td>312A UNION ST</td>\n",
       "      <td>312</td>\n",
       "      <td>A</td>\n",
       "      <td>UNION</td>\n",
       "      <td>ST</td>\n",
       "      <td>94133</td>\n",
       "      <td>-122.404777</td>\n",
       "      <td>37.801114</td>\n",
       "      <td>312 UNION</td>\n",
       "      <td>312 UNION ST</td>\n",
       "    </tr>\n",
       "    <tr>\n",
       "      <th>3</th>\n",
       "      <td>2293 POWELL ST</td>\n",
       "      <td>2293</td>\n",
       "      <td>NaN</td>\n",
       "      <td>POWELL</td>\n",
       "      <td>ST</td>\n",
       "      <td>94133</td>\n",
       "      <td>-122.412084</td>\n",
       "      <td>37.805643</td>\n",
       "      <td>2293 POWELL</td>\n",
       "      <td>2293 POWELL ST</td>\n",
       "    </tr>\n",
       "    <tr>\n",
       "      <th>4</th>\n",
       "      <td>309 BAY ST</td>\n",
       "      <td>309</td>\n",
       "      <td>NaN</td>\n",
       "      <td>BAY</td>\n",
       "      <td>ST</td>\n",
       "      <td>94133</td>\n",
       "      <td>-122.412411</td>\n",
       "      <td>37.805648</td>\n",
       "      <td>309 BAY</td>\n",
       "      <td>309 BAY ST</td>\n",
       "    </tr>\n",
       "  </tbody>\n",
       "</table>\n",
       "</div>"
      ],
      "text/plain": [
       "          address address_number address_number_suffix street_name  \\\n",
       "0   1411 16TH AVE           1411                   NaN        16TH   \n",
       "1  2433A 23RD AVE           2433                     A        23RD   \n",
       "2   312A UNION ST            312                     A       UNION   \n",
       "3  2293 POWELL ST           2293                   NaN      POWELL   \n",
       "4      309 BAY ST            309                   NaN         BAY   \n",
       "\n",
       "  street_type    zip        long        lat number_street number_street_type  \n",
       "0         AVE  94122 -122.473947  37.761593     1411 16TH      1411 16TH AVE  \n",
       "1         AVE  94116 -122.480264  37.742226     2433 23RD      2433 23RD AVE  \n",
       "2          ST  94133 -122.404777  37.801114     312 UNION       312 UNION ST  \n",
       "3          ST  94133 -122.412084  37.805643   2293 POWELL     2293 POWELL ST  \n",
       "4          ST  94133 -122.412411  37.805648       309 BAY         309 BAY ST  "
      ]
     },
     "execution_count": 33,
     "metadata": {},
     "output_type": "execute_result"
    }
   ],
   "source": [
    "addy_frame.head()"
   ]
  },
  {
   "cell_type": "code",
   "execution_count": 35,
   "metadata": {},
   "outputs": [
    {
     "data": {
      "text/html": [
       "<div>\n",
       "<style scoped>\n",
       "    .dataframe tbody tr th:only-of-type {\n",
       "        vertical-align: middle;\n",
       "    }\n",
       "\n",
       "    .dataframe tbody tr th {\n",
       "        vertical-align: top;\n",
       "    }\n",
       "\n",
       "    .dataframe thead th {\n",
       "        text-align: right;\n",
       "    }\n",
       "</style>\n",
       "<table border=\"1\" class=\"dataframe\">\n",
       "  <thead>\n",
       "    <tr style=\"text-align: right;\">\n",
       "      <th></th>\n",
       "      <th>address</th>\n",
       "      <th>zip</th>\n",
       "      <th>no1</th>\n",
       "      <th>address_number</th>\n",
       "      <th>street_name</th>\n",
       "      <th>street_type</th>\n",
       "      <th>unit_number</th>\n",
       "      <th>full_address</th>\n",
       "      <th>e_tag</th>\n",
       "      <th>e_norm</th>\n",
       "      <th>street_name_type</th>\n",
       "      <th>addy_street_name</th>\n",
       "      <th>addy_street_name_score</th>\n",
       "      <th>addy_street_name_type</th>\n",
       "      <th>addy_street_name_type_score</th>\n",
       "      <th>number_street_type</th>\n",
       "      <th>found</th>\n",
       "    </tr>\n",
       "  </thead>\n",
       "  <tbody>\n",
       "    <tr>\n",
       "      <th>0</th>\n",
       "      <td>0000 2530 BROADWAY              0000</td>\n",
       "      <td>94123</td>\n",
       "      <td></td>\n",
       "      <td>2530</td>\n",
       "      <td>BROADWAY</td>\n",
       "      <td>NaN</td>\n",
       "      <td>NaN</td>\n",
       "      <td>2530 BROADWAY, SAN-FRANCISCO, CA 94123</td>\n",
       "      <td>NaN</td>\n",
       "      <td>NaN</td>\n",
       "      <td>BROADWAY</td>\n",
       "      <td>BROADWAY</td>\n",
       "      <td>100</td>\n",
       "      <td>BROADWAY</td>\n",
       "      <td>100</td>\n",
       "      <td>2530 BROADWAY</td>\n",
       "      <td>False</td>\n",
       "    </tr>\n",
       "    <tr>\n",
       "      <th>1</th>\n",
       "      <td>1114 1108 CHURCH              ST0000</td>\n",
       "      <td>94114</td>\n",
       "      <td>1114</td>\n",
       "      <td>1108</td>\n",
       "      <td>CHURCH</td>\n",
       "      <td>ST</td>\n",
       "      <td>NaN</td>\n",
       "      <td>1108 CHURCH ST, SAN-FRANCISCO, CA 94114</td>\n",
       "      <td>NaN</td>\n",
       "      <td>NaN</td>\n",
       "      <td>CHURCH ST</td>\n",
       "      <td>CHURCH</td>\n",
       "      <td>90</td>\n",
       "      <td>CHURCH ST</td>\n",
       "      <td>100</td>\n",
       "      <td>1108 CHURCH ST</td>\n",
       "      <td>True</td>\n",
       "    </tr>\n",
       "    <tr>\n",
       "      <th>3</th>\n",
       "      <td>0000 2625 24TH                ST0000</td>\n",
       "      <td>99999</td>\n",
       "      <td></td>\n",
       "      <td>2625</td>\n",
       "      <td>24TH</td>\n",
       "      <td>ST</td>\n",
       "      <td>NaN</td>\n",
       "      <td>2625 24TH ST, SAN-FRANCISCO, CA 99999</td>\n",
       "      <td>NaN</td>\n",
       "      <td>NaN</td>\n",
       "      <td>24TH ST</td>\n",
       "      <td>4TH</td>\n",
       "      <td>90</td>\n",
       "      <td>24TH ST</td>\n",
       "      <td>100</td>\n",
       "      <td>2625 24TH ST</td>\n",
       "      <td>True</td>\n",
       "    </tr>\n",
       "    <tr>\n",
       "      <th>5</th>\n",
       "      <td>0000 3636 WEBSTER             ST0000</td>\n",
       "      <td>94123</td>\n",
       "      <td></td>\n",
       "      <td>3636</td>\n",
       "      <td>WEBSTER</td>\n",
       "      <td>ST</td>\n",
       "      <td>NaN</td>\n",
       "      <td>3636 WEBSTER ST, SAN-FRANCISCO, CA 94123</td>\n",
       "      <td>NaN</td>\n",
       "      <td>NaN</td>\n",
       "      <td>WEBSTER ST</td>\n",
       "      <td>WEBSTER</td>\n",
       "      <td>95</td>\n",
       "      <td>WEBSTER ST</td>\n",
       "      <td>100</td>\n",
       "      <td>3636 WEBSTER ST</td>\n",
       "      <td>True</td>\n",
       "    </tr>\n",
       "    <tr>\n",
       "      <th>6</th>\n",
       "      <td>0000 1453 07TH                AV0000</td>\n",
       "      <td>94122</td>\n",
       "      <td></td>\n",
       "      <td>1453</td>\n",
       "      <td>7TH</td>\n",
       "      <td>AVE</td>\n",
       "      <td>NaN</td>\n",
       "      <td>1453 7TH AV, SAN-FRANCISCO, CA 94122</td>\n",
       "      <td>NaN</td>\n",
       "      <td>NaN</td>\n",
       "      <td>7TH AVE</td>\n",
       "      <td>7TH</td>\n",
       "      <td>90</td>\n",
       "      <td>7TH AVE</td>\n",
       "      <td>100</td>\n",
       "      <td>1453 7TH AVE</td>\n",
       "      <td>True</td>\n",
       "    </tr>\n",
       "  </tbody>\n",
       "</table>\n",
       "</div>"
      ],
      "text/plain": [
       "                                address    zip   no1 address_number  \\\n",
       "0  0000 2530 BROADWAY              0000  94123                 2530   \n",
       "1  1114 1108 CHURCH              ST0000  94114  1114           1108   \n",
       "3  0000 2625 24TH                ST0000  99999                 2625   \n",
       "5  0000 3636 WEBSTER             ST0000  94123                 3636   \n",
       "6  0000 1453 07TH                AV0000  94122                 1453   \n",
       "\n",
       "  street_name street_type unit_number  \\\n",
       "0    BROADWAY         NaN         NaN   \n",
       "1      CHURCH          ST         NaN   \n",
       "3        24TH          ST         NaN   \n",
       "5     WEBSTER          ST         NaN   \n",
       "6         7TH         AVE         NaN   \n",
       "\n",
       "                               full_address e_tag e_norm street_name_type  \\\n",
       "0    2530 BROADWAY, SAN-FRANCISCO, CA 94123   NaN    NaN         BROADWAY   \n",
       "1   1108 CHURCH ST, SAN-FRANCISCO, CA 94114   NaN    NaN        CHURCH ST   \n",
       "3     2625 24TH ST, SAN-FRANCISCO, CA 99999   NaN    NaN          24TH ST   \n",
       "5  3636 WEBSTER ST, SAN-FRANCISCO, CA 94123   NaN    NaN       WEBSTER ST   \n",
       "6      1453 7TH AV, SAN-FRANCISCO, CA 94122   NaN    NaN          7TH AVE   \n",
       "\n",
       "  addy_street_name  addy_street_name_score addy_street_name_type  \\\n",
       "0         BROADWAY                     100             BROADWAY    \n",
       "1           CHURCH                      90             CHURCH ST   \n",
       "3              4TH                      90               24TH ST   \n",
       "5          WEBSTER                      95            WEBSTER ST   \n",
       "6              7TH                      90               7TH AVE   \n",
       "\n",
       "   addy_street_name_type_score number_street_type  found  \n",
       "0                          100     2530 BROADWAY   False  \n",
       "1                          100     1108 CHURCH ST   True  \n",
       "3                          100       2625 24TH ST   True  \n",
       "5                          100    3636 WEBSTER ST   True  \n",
       "6                          100       1453 7TH AVE   True  "
      ]
     },
     "execution_count": 35,
     "metadata": {},
     "output_type": "execute_result"
    }
   ],
   "source": [
    "assess_frame.head()"
   ]
  },
  {
   "cell_type": "code",
   "execution_count": 37,
   "metadata": {},
   "outputs": [],
   "source": [
    "assess_out = pd.merge(assess_frame.loc[assess_frame.found, ['address','number_street_type']],\n",
    "         addy_frame[['number_street_type','long','lat']],\n",
    "         how='inner', \n",
    "         on =['number_street_type'])"
   ]
  },
  {
   "cell_type": "markdown",
   "metadata": {},
   "source": [
    "#### 3.4.3 Match and geotag"
   ]
  },
  {
   "cell_type": "code",
   "execution_count": 43,
   "metadata": {},
   "outputs": [],
   "source": [
    "cols = ['Closed Roll Fiscal Year', \n",
    "'Property Location', \n",
    "'Neighborhood Code Definition', \n",
    "'Block and Lot Number', \n",
    "'Property Class Code Definition',\n",
    "'Year Property Built', \n",
    "'Number of Bathrooms', \n",
    "'Number of Bedrooms',\n",
    "'Number of Rooms', \n",
    "'Number of Stories', \n",
    "'Number of Units',\n",
    "'Characteristics Change Date',\n",
    "'Zoning Code',\n",
    "'Construction Type',\n",
    "'Lot Depth', \n",
    "'Lot Frontage',\n",
    "'Property Area in Square Feet',\n",
    "'Basement Area',\n",
    "'Lot Area',\n",
    "'Prior Sales Date',\n",
    "'Recordation Date',\n",
    "'Current Sales Date',\n",
    "'Closed Roll Assessed Fixtures Value',\n",
    "'Closed Roll Assessed Improvement Value',\n",
    "'Closed Roll Assessed Land Value',\n",
    "'Closed Roll Assessed Personal Prop Value', \n",
    "'Zipcode of Parcel',\n",
    "'Location']"
   ]
  },
  {
   "cell_type": "code",
   "execution_count": 44,
   "metadata": {},
   "outputs": [],
   "source": [
    "# Import Assessor's data:\n",
    "assess_path = r'C:\\SFSU\\Spring 2020\\Project\\Data\\assessor\\Historic_Secured_Property_Tax_Rolls.csv' # use your path\n",
    "assess_frame = pd.read_csv(assess_path, header=0, index_col=False,\n",
    "                           usecols= cols,\n",
    "                           dtype={'Zipcode of Parcel':str}).drop_duplicates()"
   ]
  },
  {
   "cell_type": "code",
   "execution_count": 46,
   "metadata": {},
   "outputs": [],
   "source": [
    "assess_out = pd.merge(assess_out, assess_frame,\n",
    "                      how='left', \n",
    "                      left_on = ['address'],\n",
    "                      right_on =['Property Location'])"
   ]
  },
  {
   "cell_type": "code",
   "execution_count": 49,
   "metadata": {},
   "outputs": [],
   "source": [
    "assess_path = r'C:\\SFSU\\Spring 2020\\Project\\Data\\assessor\\Historic_Secured_Property_Tax_Rolls_Processed.csv'\n",
    "assess_out.to_csv(assess_path)"
   ]
  },
  {
   "cell_type": "code",
   "execution_count": 7,
   "metadata": {},
   "outputs": [],
   "source": [
    "assess_path = r'C:\\SFSU\\Spring 2020\\Project\\Data\\assessor\\Historic_Secured_Property_Tax_Rolls_Processed.csv'\n",
    "assess_out = pd.read_csv(assess_path)"
   ]
  },
  {
   "cell_type": "code",
   "execution_count": 18,
   "metadata": {},
   "outputs": [
    {
     "name": "stdout",
     "output_type": "stream",
     "text": [
      "<class 'pandas.core.frame.DataFrame'>\n",
      "RangeIndex: 1497941 entries, 0 to 1497940\n",
      "Data columns (total 33 columns):\n",
      " #   Column                                    Non-Null Count    Dtype  \n",
      "---  ------                                    --------------    -----  \n",
      " 0   Unnamed: 0                                1497941 non-null  int64  \n",
      " 1   address                                   1497941 non-null  object \n",
      " 2   number_street_type                        1497941 non-null  object \n",
      " 3   long                                      1497941 non-null  float64\n",
      " 4   lat                                       1497941 non-null  float64\n",
      " 5   Closed Roll Fiscal Year                   1497940 non-null  float64\n",
      " 6   Property Location                         1497941 non-null  object \n",
      " 7   Neighborhood Code Definition              1454501 non-null  object \n",
      " 8   Block and Lot Number                      1497941 non-null  object \n",
      " 9   Property Class Code Definition            1485261 non-null  object \n",
      " 10  Year Property Built                       1412221 non-null  float64\n",
      " 11  Number of Bathrooms                       1497941 non-null  float64\n",
      " 12  Number of Bedrooms                        1497941 non-null  int64  \n",
      " 13  Number of Rooms                           1497941 non-null  int64  \n",
      " 14  Number of Stories                         1497941 non-null  int64  \n",
      " 15  Number of Units                           1497941 non-null  int64  \n",
      " 16  Characteristics Change Date               1313825 non-null  object \n",
      " 17  Zoning Code                               1304201 non-null  object \n",
      " 18  Construction Type                         1307431 non-null  object \n",
      " 19  Lot Depth                                 1497941 non-null  float64\n",
      " 20  Lot Frontage                              1497941 non-null  float64\n",
      " 21  Property Area in Square Feet              1497941 non-null  int64  \n",
      " 22  Basement Area                             1497940 non-null  float64\n",
      " 23  Lot Area                                  1497940 non-null  float64\n",
      " 24  Prior Sales Date                          0 non-null        float64\n",
      " 25  Recordation Date                          1396183 non-null  object \n",
      " 26  Current Sales Date                        788220 non-null   object \n",
      " 27  Closed Roll Assessed Fixtures Value       1497940 non-null  float64\n",
      " 28  Closed Roll Assessed Improvement Value    1497940 non-null  float64\n",
      " 29  Closed Roll Assessed Land Value           1497940 non-null  float64\n",
      " 30  Closed Roll Assessed Personal Prop Value  1497940 non-null  float64\n",
      " 31  Zipcode of Parcel                         1477350 non-null  float64\n",
      " 32  Location                                  1477648 non-null  object \n",
      "dtypes: float64(15), int64(6), object(12)\n",
      "memory usage: 377.1+ MB\n"
     ]
    }
   ],
   "source": [
    "assess_out.info()"
   ]
  }
 ],
 "metadata": {
  "kernelspec": {
   "display_name": "Python 3",
   "language": "python",
   "name": "python3"
  },
  "language_info": {
   "codemirror_mode": {
    "name": "ipython",
    "version": 3
   },
   "file_extension": ".py",
   "mimetype": "text/x-python",
   "name": "python",
   "nbconvert_exporter": "python",
   "pygments_lexer": "ipython3",
   "version": "3.7.6"
  }
 },
 "nbformat": 4,
 "nbformat_minor": 4
}
