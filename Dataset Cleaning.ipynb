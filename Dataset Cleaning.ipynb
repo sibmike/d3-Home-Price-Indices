{
 "cells": [
  {
   "cell_type": "code",
   "execution_count": 1,
   "metadata": {},
   "outputs": [],
   "source": [
    "import pandas as pd\n",
    "import numpy as np\n",
    "import glob\n",
    "from tqdm import tqdm"
   ]
  },
  {
   "cell_type": "markdown",
   "metadata": {},
   "source": [
    "## Phase 2.2 Data Pre Processing\n",
    "### Data collection and preprocessing\n",
    "\n",
    "I have downloaded sales data from an MLS system. It only allows to download up to 3,000 records, so I have ended up with a bunch of files. Every export operation has taken quite some time, so what seemed to be an easy task turned out to be a tedious and tiresome process. One would expect to get clean data as a result of this little torture, but it has turned out to be anything but pure.\n",
    "\n",
    "Luckily Pandas is a perfect tool for cleaning. Starting with 117MB, 112970 entries, and 135 columns, I have squeezed it down to 27.2 Mb, the same amount of listings, and 69 columns without losing any meaningful information.\n",
    "\n",
    "### Technologies\n",
    "\n",
    "I plan to use the dataset with Kepler.gl, an extraordinary framework for geospatial time-series visualizations. However, before loading data to Kepler, I still need to do quite a bit of modeling and calculations. First, I need to geotag the locations and build a hex grid using the uber H3 framework. Then I need to train a deep neural network model to get embeddings. Finally, I will have to apply a clusterization algorithm to the hex map to define existing submarkets. Then I will be able to show how price levels evolve in different submarkets. \n",
    "\n",
    "A bonus problem would be to show how borders of the submarkets evolve. However, to visualize this, I would have to enrich my data set with historical information from census tracts. This task would not be too hard with the given framework, but extracting the data from IPUMS USA takes time. Given the complexity of my endeavor, I wisely restrict the current scope of work to the given dataset."
   ]
  },
  {
   "cell_type": "code",
   "execution_count": 2,
   "metadata": {},
   "outputs": [],
   "source": [
    "# List of the csvs with different # of columns:\n",
    "diff_list = ['C:\\\\SFSU\\\\Spring 2020\\\\Project\\\\Data\\\\sales\\\\Spreadsheet.csv',\n",
    "             'C:\\\\SFSU\\\\Spring 2020\\\\Project\\\\Data\\\\sales\\\\Spreadsheet (1).csv',\n",
    "             'C:\\\\SFSU\\\\Spring 2020\\\\Project\\\\Data\\\\sales\\\\Spreadsheet (2).csv',\n",
    "             'C:\\\\SFSU\\\\Spring 2020\\\\Project\\\\Data\\\\sales\\\\Spreadsheet (3).csv']\n",
    "\n",
    "# List of csvs with regular # of columns to import:\n",
    "path = r'C:\\SFSU\\Spring 2020\\Project\\Data\\sales' # use your path\n",
    "all_files = glob.glob(path + \"/*.csv\")\n",
    "all_files = list(set(all_files) - set(diff_list))"
   ]
  },
  {
   "cell_type": "code",
   "execution_count": 3,
   "metadata": {},
   "outputs": [
    {
     "name": "stderr",
     "output_type": "stream",
     "text": [
      "100%|██████████| 54/54 [00:02<00:00, 20.32it/s]\n",
      "100%|██████████| 3/3 [00:00<00:00, 15.98it/s]\n"
     ]
    },
    {
     "name": "stdout",
     "output_type": "stream",
     "text": [
      "<class 'pandas.core.frame.DataFrame'>\n",
      "Int64Index: 112970 entries, 0 to 126943\n",
      "Data columns (total 81 columns):\n",
      " #   Column                       Non-Null Count   Dtype  \n",
      "---  ------                       --------------   -----  \n",
      " 0   MLS #                        112970 non-null  object \n",
      " 1   #Pics                        112970 non-null  int64  \n",
      " 2   Status                       112970 non-null  object \n",
      " 3   Address                      112970 non-null  object \n",
      " 4   Price                        112970 non-null  object \n",
      " 5   DOM                          112970 non-null  object \n",
      " 6   Beds                         111492 non-null  float64\n",
      " 7   Baths(F)                     112918 non-null  float64\n",
      " 8   Baths(P)                     108577 non-null  float64\n",
      " 9   SqFt                         112776 non-null  float64\n",
      " 10  LotSqFt                      112205 non-null  object \n",
      " 11  City                         112970 non-null  object \n",
      " 12  Class                        112970 non-null  object \n",
      " 13  PropType                     112970 non-null  object \n",
      " 14  1/4 Baths                    105965 non-null  float64\n",
      " 15  3/4 Baths                    105966 non-null  float64\n",
      " 16  Agent Remarks                104454 non-null  object \n",
      " 17  Area                         112970 non-null  object \n",
      " 18  Area #                       105940 non-null  float64\n",
      " 19  Days On Market               112970 non-null  object \n",
      " 20  Display Address              112969 non-null  object \n",
      " 21  Geocode Quality              112970 non-null  object \n",
      " 22  HOA Exist Y/N                50392 non-null   object \n",
      " 23  HOA Fee                      33795 non-null   object \n",
      " 24  HOA Fee Frequency            25014 non-null   object \n",
      " 25  Internet Listing YesNo       112970 non-null  object \n",
      " 26  List Price                   112970 non-null  object \n",
      " 27  List Price Per Acre          105950 non-null  object \n",
      " 28  List Price Per SqFt          88684 non-null   object \n",
      " 29  Listing Date                 112970 non-null  object \n",
      " 30  Lot Acres                    30956 non-null   object \n",
      " 31  Lot Size Area Max Search     110764 non-null  object \n",
      " 32  Lot Size Area Maximum Units  112275 non-null  object \n",
      " 33  Lot Size Area Min Search     4814 non-null    object \n",
      " 34  LotSize SqFt County          1189 non-null    object \n",
      " 35  Max # of Units in Building   35314 non-null   object \n",
      " 36  Max # of Units in Complex    36481 non-null   object \n",
      " 37  Maximum Building Height      44123 non-null   float64\n",
      " 38  Maximum Lot Size             112205 non-null  object \n",
      " 39  Maximum Unit Floor Number    13886 non-null   float64\n",
      " 40  Min # of Units in Building   35520 non-null   object \n",
      " 41  Min # of Units in Complex    36653 non-null   object \n",
      " 42  Minimum Building Height      57609 non-null   float64\n",
      " 43  Minimum Floor Number         14154 non-null   float64\n",
      " 44  Occupied By                  101222 non-null  object \n",
      " 45  Original List Date           112970 non-null  object \n",
      " 46  Original List Price          112965 non-null  object \n",
      " 47  Original Listing ID          112970 non-null  object \n",
      " 48  Parking Lease Fee            105897 non-null  object \n",
      " 49  Pool Y/N                     3332 non-null    object \n",
      " 50  Price All Model High         105897 non-null  float64\n",
      " 51  Price All Model Low          105897 non-null  float64\n",
      " 52  PriceRangeLow                6 non-null       object \n",
      " 53  Property Faces               136 non-null     object \n",
      " 54  Public Remarks               93241 non-null   object \n",
      " 55  Sale Price                   112934 non-null  object \n",
      " 56  Sold Remarks                 19744 non-null   object \n",
      " 57  Source MLS                   111687 non-null  object \n",
      " 58  Source MLS Key               111481 non-null  float64\n",
      " 59  Spaces Max                   82270 non-null   float64\n",
      " 60  Spaces Min                   82270 non-null   float64\n",
      " 61  Status Change Date           112970 non-null  object \n",
      " 62  Status Comments              2938 non-null    object \n",
      " 63  Stories                      28810 non-null   float64\n",
      " 64  Structure SqFt Source        90811 non-null   object \n",
      " 65  Structure SqFt               109179 non-null  object \n",
      " 66  Tenant Name                  8040 non-null    object \n",
      " 67  Units in Subdivision         70426 non-null   float64\n",
      " 68  Well Depth                   105897 non-null  float64\n",
      " 69  Well Gallons Per Minute      105897 non-null  float64\n",
      " 70  Year Built                   111830 non-null  float64\n",
      " 71  Year Built Source            1588 non-null    object \n",
      " 72  Zip Code                     109792 non-null  object \n",
      " 73  Zoning Text                  63206 non-null   object \n",
      " 74  $/SqFt                       81859 non-null   object \n",
      " 75  Address 2                    0 non-null       float64\n",
      " 76  Fireplace YN                 13574 non-null   object \n",
      " 77  Garage Spaces                6173 non-null    float64\n",
      " 78  How Sold                     104717 non-null  object \n",
      " 79  Listing Detail URL           3731 non-null    object \n",
      " 80  Withhold Sale Price Y/N      0 non-null       float64\n",
      "dtypes: float64(24), int64(1), object(56)\n",
      "memory usage: 70.7+ MB\n"
     ]
    }
   ],
   "source": [
    "# List of dataframes to concatenate:\n",
    "## Add dataframes with regular columns:\n",
    "li = []\n",
    "for filename in tqdm(all_files):\n",
    "    df = pd.read_csv(filename)\n",
    "    li.append(df)\n",
    "\n",
    "## Find intersection of columns with the regular columns set:\n",
    "df2 = pd.read_csv(diff_list[0])\n",
    "import_cols = (df2.columns).intersection(set(df.columns))\n",
    "li.append(df2.loc[:,import_cols])\n",
    "    \n",
    "for filename in tqdm(diff_list[1:]):\n",
    "    df = pd.read_csv(filename, usecols=import_cols)\n",
    "    li.append(df)\n",
    "    \n",
    "# Concat the imported dataframes and drop duplicates:\n",
    "frame = pd.concat(li, axis=0, ignore_index=True).drop_duplicates()\n",
    "frame.info()"
   ]
  },
  {
   "cell_type": "code",
   "execution_count": 4,
   "metadata": {},
   "outputs": [
    {
     "name": "stderr",
     "output_type": "stream",
     "text": [
      "100%|██████████| 56/56 [00:11<00:00,  4.89it/s]\n"
     ]
    },
    {
     "name": "stdout",
     "output_type": "stream",
     "text": [
      "<class 'pandas.core.frame.DataFrame'>\n",
      "Int64Index: 112970 entries, 0 to 126943\n",
      "Data columns (total 66 columns):\n",
      " #   Column                       Non-Null Count   Dtype         \n",
      "---  ------                       --------------   -----         \n",
      " 0   MLS #                        112970 non-null  object        \n",
      " 1   #Pics                        112970 non-null  int64         \n",
      " 2   Status                       112970 non-null  object        \n",
      " 3   Address                      112970 non-null  object        \n",
      " 4   Price                        112970 non-null  int64         \n",
      " 5   DOM                          112970 non-null  object        \n",
      " 6   Beds                         111492 non-null  float64       \n",
      " 7   Baths(F)                     112918 non-null  float64       \n",
      " 8   Baths(P)                     108577 non-null  float64       \n",
      " 9   SqFt                         112776 non-null  float64       \n",
      " 10  LotSqFt                      112205 non-null  float64       \n",
      " 11  City                         112970 non-null  object        \n",
      " 12  Class                        112970 non-null  object        \n",
      " 13  PropType                     112970 non-null  object        \n",
      " 14  1/4 Baths                    105965 non-null  float64       \n",
      " 15  3/4 Baths                    105966 non-null  float64       \n",
      " 16  Agent Remarks                104454 non-null  object        \n",
      " 17  Area                         112970 non-null  object        \n",
      " 18  Area #                       105940 non-null  float64       \n",
      " 19  Days On Market               112970 non-null  int64         \n",
      " 20  Display Address              112969 non-null  object        \n",
      " 21  Geocode Quality              112970 non-null  object        \n",
      " 22  HOA Exist Y/N                50392 non-null   object        \n",
      " 23  HOA Fee                      33795 non-null   float64       \n",
      " 24  HOA Fee Frequency            25014 non-null   object        \n",
      " 25  Internet Listing YesNo       112970 non-null  object        \n",
      " 26  List Price                   112970 non-null  int64         \n",
      " 27  List Price Per Acre          105950 non-null  float64       \n",
      " 28  List Price Per SqFt          88684 non-null   float64       \n",
      " 29  Listing Date                 112970 non-null  datetime64[ns]\n",
      " 30  Lot Acres                    30956 non-null   float64       \n",
      " 31  Lot Size Area Max Search     110764 non-null  float64       \n",
      " 32  Lot Size Area Maximum Units  112275 non-null  object        \n",
      " 33  Max # of Units in Building   35314 non-null   float64       \n",
      " 34  Max # of Units in Complex    36481 non-null   float64       \n",
      " 35  Maximum Building Height      44123 non-null   float64       \n",
      " 36  Maximum Lot Size             112205 non-null  float64       \n",
      " 37  Maximum Unit Floor Number    13886 non-null   float64       \n",
      " 38  Min # of Units in Building   35520 non-null   float64       \n",
      " 39  Min # of Units in Complex    36653 non-null   float64       \n",
      " 40  Minimum Building Height      57609 non-null   float64       \n",
      " 41  Minimum Floor Number         14154 non-null   float64       \n",
      " 42  Occupied By                  101222 non-null  object        \n",
      " 43  Original List Date           112970 non-null  datetime64[ns]\n",
      " 44  Original List Price          112965 non-null  float64       \n",
      " 45  Original Listing ID          112970 non-null  object        \n",
      " 46  Parking Lease Fee            105897 non-null  float64       \n",
      " 47  Public Remarks               93241 non-null   object        \n",
      " 48  Sale Price                   112934 non-null  float64       \n",
      " 49  Sold Remarks                 19744 non-null   object        \n",
      " 50  Source MLS                   111687 non-null  object        \n",
      " 51  Source MLS Key               111481 non-null  float64       \n",
      " 52  Spaces Max                   82270 non-null   float64       \n",
      " 53  Spaces Min                   82270 non-null   float64       \n",
      " 54  Status Change Date           112970 non-null  datetime64[ns]\n",
      " 55  Stories                      28810 non-null   float64       \n",
      " 56  Structure SqFt Source        90811 non-null   object        \n",
      " 57  Structure SqFt               109179 non-null  float64       \n",
      " 58  Tenant Name                  8040 non-null    object        \n",
      " 59  Year Built                   111830 non-null  float64       \n",
      " 60  Zip Code                     109792 non-null  object        \n",
      " 61  Zoning Text                  63206 non-null   object        \n",
      " 62  $/SqFt                       81859 non-null   float64       \n",
      " 63  Fireplace YN                 13574 non-null   object        \n",
      " 64  Garage Spaces                6173 non-null    float64       \n",
      " 65  How Sold                     104717 non-null  object        \n",
      "dtypes: datetime64[ns](3), float64(33), int64(4), object(26)\n",
      "memory usage: 57.7+ MB\n"
     ]
    }
   ],
   "source": [
    "# Basic cleaning.\n",
    "# Convert object columns (such as price per sq.ft. and price) to numeric. \n",
    "obj_columns = list(frame.columns[frame.dtypes=='object'])\n",
    "for col in tqdm(obj_columns):\n",
    "    frame[col] = pd.to_numeric(frame[col].replace('[\\$\\,]', '', regex=True), errors='ignore')\n",
    "    \n",
    "    # Convert date-time columns:\n",
    "    if frame[col].dtype != 'int64' and frame[col].dtype != 'float64':\n",
    "        frame[col] = pd.to_datetime(frame[col], errors='ignore')\n",
    "        \n",
    "# Drop mostly empty columns\n",
    "# (We can return later to see if there is any signal in the dropped columns.):\n",
    "check_columns = list(frame.columns[frame.count()>=5000])\n",
    "drop_columns = list(frame.columns[frame.count()<5000])\n",
    "\n",
    "# Drop columns that have only zeroes:\n",
    "max_count = frame[check_columns].describe().T['max']\n",
    "drop_columns += list(max_count[max_count==0].index)\n",
    "frame.drop(axis=1, columns=drop_columns, inplace=True)\n",
    "\n",
    "frame.info()"
   ]
  },
  {
   "cell_type": "code",
   "execution_count": 5,
   "metadata": {},
   "outputs": [
    {
     "data": {
      "text/plain": [
       "Listing Date          datetime64[ns]\n",
       "Original List Date    datetime64[ns]\n",
       "Status Change Date    datetime64[ns]\n",
       "dtype: object"
      ]
     },
     "execution_count": 5,
     "metadata": {},
     "output_type": "execute_result"
    }
   ],
   "source": [
    "# Check date time columns:\n",
    "frame.dtypes[frame.dtypes=='<M8[ns]']"
   ]
  },
  {
   "cell_type": "code",
   "execution_count": 6,
   "metadata": {},
   "outputs": [
    {
     "data": {
      "text/plain": [
       "How Sold                         1\n",
       "City                             1\n",
       "Class                            1\n",
       "Lot Size Area Maximum Units      2\n",
       "Fireplace YN                     2\n",
       "HOA Exist Y/N                    2\n",
       "Status                           2\n",
       "Internet Listing YesNo           2\n",
       "HOA Fee Frequency                3\n",
       "Geocode Quality                  4\n",
       "PropType                         5\n",
       "Occupied By                      5\n",
       "Source MLS                       7\n",
       "Structure SqFt Source           13\n",
       "Area                           115\n",
       "Zip Code                       310\n",
       "Zoning Text                    347\n",
       "dtype: int64"
      ]
     },
     "execution_count": 6,
     "metadata": {},
     "output_type": "execute_result"
    }
   ],
   "source": [
    "# Try to find categorical variabeles:\n",
    "obj_count = frame[frame.dtypes[frame.dtypes=='object'].index].nunique()\n",
    "cat_col = obj_count[obj_count <= 373]\n",
    "cat_col.sort_values()"
   ]
  },
  {
   "cell_type": "code",
   "execution_count": 7,
   "metadata": {},
   "outputs": [
    {
     "data": {
      "text/plain": [
       "10"
      ]
     },
     "execution_count": 7,
     "metadata": {},
     "output_type": "execute_result"
    }
   ],
   "source": [
    "# Zip Code column has too many values:\n",
    "frame['Zip Code'].astype(str).map(len).max()"
   ]
  },
  {
   "cell_type": "code",
   "execution_count": 8,
   "metadata": {},
   "outputs": [],
   "source": [
    "# Find 5 digits zip codes:\n",
    "zip5=frame['Zip Code'].astype(str).str.extract(r'(\\d{5})')[0]\n",
    "\n",
    "# Extract 4 digit codes from non 5 digits zip codes:\n",
    "m = zip5.isna()\n",
    "frame.loc[m,'Zip Code'] = frame['Zip Code'].loc[m].astype(str).str.extract(r'(\\d{4})')[0]\n",
    "frame.loc[-m,'Zip Code'] = zip5"
   ]
  },
  {
   "cell_type": "code",
   "execution_count": 9,
   "metadata": {},
   "outputs": [
    {
     "name": "stderr",
     "output_type": "stream",
     "text": [
      "100%|██████████| 14/14 [00:00<00:00, 30.58it/s]\n"
     ]
    }
   ],
   "source": [
    "# Drop categorical variables with only one category:\n",
    "drop_columns = cat_col[cat_col==1].index\n",
    "frame.drop(axis=1, columns=drop_columns, inplace=True)\n",
    "\n",
    "# Convert remaining variables to categorical:\n",
    "obj_count = frame[frame.dtypes[frame.dtypes=='object'].index].nunique()\n",
    "cat_col = obj_count[obj_count <= 373].index\n",
    "for col in tqdm(cat_col):\n",
    "    frame[col] = frame[col].astype('category')"
   ]
  },
  {
   "cell_type": "markdown",
   "metadata": {},
   "source": [
    "### Memory reducer:\n",
    "Thanks You Guillaume Martin for the Awesome Memory Optimizer! This is considered a standard memory reducer by now. And is widely used throughout differenet competitions.\n",
    "\n",
    "https://www.kaggle.com/gemartin/load-data-reduce-memory-usage"
   ]
  },
  {
   "cell_type": "code",
   "execution_count": 10,
   "metadata": {},
   "outputs": [],
   "source": [
    "def reduce_mem_usage(df):\n",
    "    \"\"\" iterate through all the columns of a dataframe and modify the data type\n",
    "        to reduce memory usage.        \n",
    "    \"\"\"\n",
    "    start_mem = df.memory_usage().sum() / 1024**2\n",
    "    print('Memory usage of dataframe is {:.2f} MB'.format(start_mem))\n",
    "    \n",
    "    for col in df.columns:\n",
    "        col_type = df[col].dtypes\n",
    "        \n",
    "        if col_type != object:\n",
    "            c_min = df[col].min()\n",
    "            c_max = df[col].max()\n",
    "            if str(col_type)[:3] == 'int':\n",
    "                if c_min > np.iinfo(np.int8).min and c_max < np.iinfo(np.int8).max:\n",
    "                    df[col] = df[col].astype(np.int8)\n",
    "                elif c_min > np.iinfo(np.int16).min and c_max < np.iinfo(np.int16).max:\n",
    "                    df[col] = df[col].astype(np.int16)\n",
    "                elif c_min > np.iinfo(np.int32).min and c_max < np.iinfo(np.int32).max:\n",
    "                    df[col] = df[col].astype(np.int32)\n",
    "                elif c_min > np.iinfo(np.int64).min and c_max < np.iinfo(np.int64).max:\n",
    "                    df[col] = df[col].astype(np.int64)  \n",
    "            else:\n",
    "                if c_min > np.finfo(np.float16).min and c_max < np.finfo(np.float16).max:\n",
    "                    df[col] = df[col].astype(np.float16)\n",
    "                elif c_min > np.finfo(np.float32).min and c_max < np.finfo(np.float32).max:\n",
    "                    df[col] = df[col].astype(np.float32)\n",
    "                else:\n",
    "                    df[col] = df[col].astype(np.float64)\n",
    "        #else: df[col] = df[col].astype('category')\n",
    "    end_mem = df.memory_usage().sum() / 1024**2\n",
    "    print('Memory usage after optimization is: {:.2f} MB'.format(end_mem))\n",
    "    print('Decreased by {:.1f}%'.format(100 * (start_mem - end_mem) / start_mem))\n",
    "    \n",
    "    return df"
   ]
  },
  {
   "cell_type": "code",
   "execution_count": 11,
   "metadata": {},
   "outputs": [
    {
     "name": "stdout",
     "output_type": "stream",
     "text": [
      "Memory usage of dataframe is 37.75 MB\n",
      "Memory usage after optimization is: 16.85 MB\n",
      "Decreased by 55.4%\n",
      "<class 'pandas.core.frame.DataFrame'>\n",
      "Int64Index: 112970 entries, 0 to 126943\n",
      "Data columns (total 63 columns):\n",
      " #   Column                       Non-Null Count   Dtype         \n",
      "---  ------                       --------------   -----         \n",
      " 0   MLS #                        112970 non-null  object        \n",
      " 1   Address                      112970 non-null  object        \n",
      " 2   Area                         112970 non-null  category      \n",
      " 3   Days On Market               112970 non-null  int16         \n",
      " 4   Geocode Quality              112970 non-null  category      \n",
      " 5   Internet Listing YesNo       112970 non-null  category      \n",
      " 6   List Price                   112970 non-null  int32         \n",
      " 7   Listing Date                 112970 non-null  datetime64[ns]\n",
      " 8   DOM                          112970 non-null  object        \n",
      " 9   Price                        112970 non-null  int32         \n",
      " 10  Original List Date           112970 non-null  datetime64[ns]\n",
      " 11  Original Listing ID          112970 non-null  object        \n",
      " 12  PropType                     112970 non-null  category      \n",
      " 13  #Pics                        112970 non-null  int16         \n",
      " 14  Status Change Date           112970 non-null  datetime64[ns]\n",
      " 15  Status                       112970 non-null  category      \n",
      " 16  Display Address              112969 non-null  object        \n",
      " 17  Original List Price          112965 non-null  float32       \n",
      " 18  Sale Price                   112934 non-null  float32       \n",
      " 19  Baths(F)                     112918 non-null  float16       \n",
      " 20  SqFt                         112776 non-null  float32       \n",
      " 21  Lot Size Area Maximum Units  112275 non-null  category      \n",
      " 22  Maximum Lot Size             112205 non-null  float32       \n",
      " 23  LotSqFt                      112205 non-null  float32       \n",
      " 24  Year Built                   111830 non-null  float16       \n",
      " 25  Source MLS                   111687 non-null  category      \n",
      " 26  Beds                         111492 non-null  float16       \n",
      " 27  Source MLS Key               111481 non-null  float32       \n",
      " 28  Lot Size Area Max Search     110764 non-null  float32       \n",
      " 29  Zip Code                     109725 non-null  category      \n",
      " 30  Structure SqFt               109179 non-null  float32       \n",
      " 31  Baths(P)                     108577 non-null  float16       \n",
      " 32  3/4 Baths                    105966 non-null  float16       \n",
      " 33  1/4 Baths                    105965 non-null  float16       \n",
      " 34  List Price Per Acre          105950 non-null  float32       \n",
      " 35  Area #                       105940 non-null  float16       \n",
      " 36  Parking Lease Fee            105897 non-null  float16       \n",
      " 37  Agent Remarks                104454 non-null  object        \n",
      " 38  Occupied By                  101222 non-null  category      \n",
      " 39  Public Remarks               93241 non-null   object        \n",
      " 40  Structure SqFt Source        90811 non-null   category      \n",
      " 41  List Price Per SqFt          88684 non-null   float32       \n",
      " 42  Spaces Min                   82270 non-null   float16       \n",
      " 43  Spaces Max                   82270 non-null   float16       \n",
      " 44  $/SqFt                       81859 non-null   float32       \n",
      " 45  Zoning Text                  63206 non-null   category      \n",
      " 46  Minimum Building Height      57609 non-null   float16       \n",
      " 47  HOA Exist Y/N                50392 non-null   category      \n",
      " 48  Maximum Building Height      44123 non-null   float16       \n",
      " 49  Min # of Units in Complex    36653 non-null   float16       \n",
      " 50  Max # of Units in Complex    36481 non-null   float16       \n",
      " 51  Min # of Units in Building   35520 non-null   float16       \n",
      " 52  Max # of Units in Building   35314 non-null   float16       \n",
      " 53  HOA Fee                      33795 non-null   float16       \n",
      " 54  Lot Acres                    30956 non-null   float32       \n",
      " 55  Stories                      28810 non-null   float16       \n",
      " 56  HOA Fee Frequency            25014 non-null   category      \n",
      " 57  Sold Remarks                 19744 non-null   object        \n",
      " 58  Minimum Floor Number         14154 non-null   float16       \n",
      " 59  Maximum Unit Floor Number    13886 non-null   float16       \n",
      " 60  Fireplace YN                 13574 non-null   category      \n",
      " 61  Tenant Name                  8040 non-null    object        \n",
      " 62  Garage Spaces                6173 non-null    float16       \n",
      "dtypes: category(14), datetime64[ns](3), float16(21), float32(12), int16(2), int32(2), object(9)\n",
      "memory usage: 28.9+ MB\n"
     ]
    }
   ],
   "source": [
    "# Reduce memory:\n",
    "num_col = frame.select_dtypes(include=['int16','int64','float64']).columns\n",
    "frame.loc[:,num_col] = reduce_mem_usage(frame.loc[:,num_col])\n",
    "\n",
    "# Print dataframe info sorted by value count:\n",
    "sorted_cols = frame.count().sort_values(ascending=False).index\n",
    "frame[sorted_cols].info()"
   ]
  },
  {
   "cell_type": "code",
   "execution_count": 12,
   "metadata": {},
   "outputs": [],
   "source": [
    "# Export clean dataframe:\n",
    "filename = path + 'frame.csv'\n",
    "frame.to_csv(filename)"
   ]
  }
 ],
 "metadata": {
  "kernelspec": {
   "display_name": "Python 3",
   "language": "python",
   "name": "python3"
  },
  "language_info": {
   "codemirror_mode": {
    "name": "ipython",
    "version": 3
   },
   "file_extension": ".py",
   "mimetype": "text/x-python",
   "name": "python",
   "nbconvert_exporter": "python",
   "pygments_lexer": "ipython3",
   "version": "3.7.6"
  }
 },
 "nbformat": 4,
 "nbformat_minor": 4
}
